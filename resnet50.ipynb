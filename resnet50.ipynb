{
 "cells": [
  {
   "cell_type": "code",
   "execution_count": 12,
   "metadata": {},
   "outputs": [
    {
     "name": "stdout",
     "output_type": "stream",
     "text": [
      "Found 1924 images belonging to 2 classes.\n",
      "Found 1922 images belonging to 2 classes.\n",
      "Epoch 1/10\n",
      "30/30 [==============================] - 190s 6s/step - loss: 0.7396 - accuracy: 0.7140 - val_loss: 0.2351 - val_accuracy: 0.9000\n",
      "Epoch 2/10\n",
      "30/30 [==============================] - 244s 8s/step - loss: 0.1652 - accuracy: 0.9656 - val_loss: 0.1320 - val_accuracy: 0.9828\n",
      "Epoch 3/10\n",
      "30/30 [==============================] - 253s 9s/step - loss: 0.1136 - accuracy: 0.9769 - val_loss: 0.0966 - val_accuracy: 0.9786\n",
      "Epoch 4/10\n",
      "30/30 [==============================] - 255s 9s/step - loss: 0.0884 - accuracy: 0.9839 - val_loss: 0.0808 - val_accuracy: 0.9906\n",
      "Epoch 5/10\n",
      "30/30 [==============================] - 252s 9s/step - loss: 0.0713 - accuracy: 0.9871 - val_loss: 0.0647 - val_accuracy: 0.9911\n",
      "Epoch 6/10\n",
      "30/30 [==============================] - 257s 9s/step - loss: 0.0606 - accuracy: 0.9887 - val_loss: 0.0539 - val_accuracy: 0.9901\n",
      "Epoch 7/10\n",
      "30/30 [==============================] - 259s 9s/step - loss: 0.0536 - accuracy: 0.9882 - val_loss: 0.0514 - val_accuracy: 0.9932\n",
      "Epoch 8/10\n",
      "30/30 [==============================] - 258s 9s/step - loss: 0.0479 - accuracy: 0.9914 - val_loss: 0.0597 - val_accuracy: 0.9958\n",
      "Epoch 9/10\n",
      "30/30 [==============================] - 257s 9s/step - loss: 0.0417 - accuracy: 0.9903 - val_loss: 0.0361 - val_accuracy: 0.9917\n",
      "Epoch 10/10\n",
      "30/30 [==============================] - 262s 9s/step - loss: 0.0345 - accuracy: 0.9925 - val_loss: 0.0340 - val_accuracy: 0.9943\n",
      "31/31 [==============================] - 123s 4s/step - loss: 0.0340 - accuracy: 0.9943\n",
      "Test loss: 0.0340\n",
      "Test accuracy: 0.9943\n"
     ]
    },
    {
     "name": "stderr",
     "output_type": "stream",
     "text": [
      "c:\\Users\\kship\\AppData\\Local\\Programs\\Python\\Python311\\Lib\\site-packages\\keras\\src\\engine\\training.py:3079: UserWarning: You are saving your model as an HDF5 file via `model.save()`. This file format is considered legacy. We recommend using instead the native Keras format, e.g. `model.save('my_model.keras')`.\n",
      "  saving_api.save_model(\n"
     ]
    }
   ],
   "source": [
    "from keras.applications import ResNet50\n",
    "from keras.models import Sequential\n",
    "from keras.layers import Dense, Flatten\n",
    "from keras.optimizers import Adam\n",
    "from keras.preprocessing.image import ImageDataGenerator\n",
    "import os\n",
    "\n",
    "# Define constants\n",
    "img_width, img_height = 224, 224\n",
    "train_data_dir = 'grayscale_dataset/train'\n",
    "test_data_dir = 'grayscale_dataset/test'\n",
    "epochs = 10\n",
    "batch_size = 64\n",
    "\n",
    "# Load pre-trained ResNet50 model\n",
    "resnet50_base = ResNet50(weights='imagenet', include_top=False, input_shape=(img_width, img_height, 3))\n",
    "\n",
    "# Data augmentation for training\n",
    "train_datagen = ImageDataGenerator(rescale=1.0/255)\n",
    "test_datagen = ImageDataGenerator(rescale=1.0/255)\n",
    "\n",
    "# Load training and testing data without augmentation\n",
    "train_generator = train_datagen.flow_from_directory(train_data_dir,\n",
    "                                                    target_size=(img_width, img_height),\n",
    "                                                    batch_size=batch_size,\n",
    "                                                    class_mode='binary')\n",
    "\n",
    "test_generator = test_datagen.flow_from_directory(test_data_dir,\n",
    "                                                  target_size=(img_width, img_height),\n",
    "                                                  batch_size=batch_size,\n",
    "                                                  class_mode='binary')\n",
    "\n",
    "# Build a sequential model on top of ResNet50\n",
    "model = Sequential()\n",
    "model.add(resnet50_base)\n",
    "model.add(Flatten())\n",
    "model.add(Dense(256, activation='relu'))\n",
    "model.add(Dense(1, activation='sigmoid'))\n",
    "\n",
    "# Freeze the ResNet50 layers\n",
    "for layer in resnet50_base.layers:\n",
    "    layer.trainable = False\n",
    "\n",
    "# Compile the model\n",
    "model.compile(optimizer=Adam(learning_rate=1e-4), loss='binary_crossentropy', metrics=['accuracy'])\n",
    "\n",
    "# Train the model\n",
    "try:\n",
    "    model.fit(train_generator,\n",
    "              steps_per_epoch=train_generator.samples // batch_size,\n",
    "              epochs=epochs,\n",
    "              validation_data=test_generator,\n",
    "              validation_steps=test_generator.samples // batch_size)\n",
    "except Exception as e:\n",
    "    print(\"Error occurred during training:\", e)\n",
    "\n",
    "# Evaluate the model on the test dataset\n",
    "loss, accuracy = model.evaluate(test_generator)\n",
    "print(f'Test loss: {loss:.4f}')\n",
    "print(f'Test accuracy: {accuracy:.4f}')\n",
    "\n",
    "# Save the trained model\n",
    "model.save('pcos_resnet50_model.h5')"
   ]
  },
  {
   "cell_type": "code",
   "execution_count": null,
   "metadata": {},
   "outputs": [],
   "source": []
  }
 ],
 "metadata": {
  "kernelspec": {
   "display_name": "Python 3",
   "language": "python",
   "name": "python3"
  },
  "language_info": {
   "codemirror_mode": {
    "name": "ipython",
    "version": 3
   },
   "file_extension": ".py",
   "mimetype": "text/x-python",
   "name": "python",
   "nbconvert_exporter": "python",
   "pygments_lexer": "ipython3",
   "version": "3.11.4"
  }
 },
 "nbformat": 4,
 "nbformat_minor": 2
}
